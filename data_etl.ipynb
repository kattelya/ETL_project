{
 "cells": [
  {
   "cell_type": "code",
   "execution_count": 23,
   "metadata": {},
   "outputs": [],
   "source": [
    "import pandas as pd\n",
    "from sqlalchemy import create_engine"
   ]
  },
  {
   "cell_type": "markdown",
   "metadata": {},
   "source": [
    "## Clean 2018 flight data"
   ]
  },
  {
   "cell_type": "code",
   "execution_count": 24,
   "metadata": {},
   "outputs": [
    {
     "data": {
      "text/html": [
       "<div>\n",
       "<style scoped>\n",
       "    .dataframe tbody tr th:only-of-type {\n",
       "        vertical-align: middle;\n",
       "    }\n",
       "\n",
       "    .dataframe tbody tr th {\n",
       "        vertical-align: top;\n",
       "    }\n",
       "\n",
       "    .dataframe thead th {\n",
       "        text-align: right;\n",
       "    }\n",
       "</style>\n",
       "<table border=\"1\" class=\"dataframe\">\n",
       "  <thead>\n",
       "    <tr style=\"text-align: right;\">\n",
       "      <th></th>\n",
       "      <th>Unnamed: 0</th>\n",
       "      <th>ItinID</th>\n",
       "      <th>MktID</th>\n",
       "      <th>MktCoupons</th>\n",
       "      <th>Quarter</th>\n",
       "      <th>Origin</th>\n",
       "      <th>OriginWac</th>\n",
       "      <th>Dest</th>\n",
       "      <th>DestWac</th>\n",
       "      <th>Miles</th>\n",
       "      <th>ContiguousUSA</th>\n",
       "      <th>NumTicketsOrdered</th>\n",
       "      <th>AirlineCompany</th>\n",
       "      <th>PricePerTicket</th>\n",
       "    </tr>\n",
       "  </thead>\n",
       "  <tbody>\n",
       "    <tr>\n",
       "      <td>0</td>\n",
       "      <td>0</td>\n",
       "      <td>20181767585</td>\n",
       "      <td>2018176758501</td>\n",
       "      <td>1</td>\n",
       "      <td>1</td>\n",
       "      <td>PHL</td>\n",
       "      <td>23</td>\n",
       "      <td>LAX</td>\n",
       "      <td>91</td>\n",
       "      <td>2402.0</td>\n",
       "      <td>2</td>\n",
       "      <td>1.0</td>\n",
       "      <td>AA</td>\n",
       "      <td>672.87</td>\n",
       "    </tr>\n",
       "    <tr>\n",
       "      <td>1</td>\n",
       "      <td>1</td>\n",
       "      <td>20181767586</td>\n",
       "      <td>2018176758601</td>\n",
       "      <td>1</td>\n",
       "      <td>1</td>\n",
       "      <td>PHL</td>\n",
       "      <td>23</td>\n",
       "      <td>LAX</td>\n",
       "      <td>91</td>\n",
       "      <td>2402.0</td>\n",
       "      <td>2</td>\n",
       "      <td>1.0</td>\n",
       "      <td>AA</td>\n",
       "      <td>367.68</td>\n",
       "    </tr>\n",
       "    <tr>\n",
       "      <td>2</td>\n",
       "      <td>2</td>\n",
       "      <td>20181767587</td>\n",
       "      <td>2018176758701</td>\n",
       "      <td>1</td>\n",
       "      <td>1</td>\n",
       "      <td>PHL</td>\n",
       "      <td>23</td>\n",
       "      <td>LAX</td>\n",
       "      <td>91</td>\n",
       "      <td>2402.0</td>\n",
       "      <td>2</td>\n",
       "      <td>1.0</td>\n",
       "      <td>AA</td>\n",
       "      <td>417.94</td>\n",
       "    </tr>\n",
       "    <tr>\n",
       "      <td>3</td>\n",
       "      <td>3</td>\n",
       "      <td>20181767636</td>\n",
       "      <td>2018176763601</td>\n",
       "      <td>1</td>\n",
       "      <td>1</td>\n",
       "      <td>PHL</td>\n",
       "      <td>23</td>\n",
       "      <td>LAX</td>\n",
       "      <td>91</td>\n",
       "      <td>2402.0</td>\n",
       "      <td>2</td>\n",
       "      <td>1.0</td>\n",
       "      <td>AA</td>\n",
       "      <td>247.10</td>\n",
       "    </tr>\n",
       "    <tr>\n",
       "      <td>4</td>\n",
       "      <td>4</td>\n",
       "      <td>20181767637</td>\n",
       "      <td>2018176763701</td>\n",
       "      <td>1</td>\n",
       "      <td>1</td>\n",
       "      <td>PHL</td>\n",
       "      <td>23</td>\n",
       "      <td>LAX</td>\n",
       "      <td>91</td>\n",
       "      <td>2402.0</td>\n",
       "      <td>2</td>\n",
       "      <td>1.0</td>\n",
       "      <td>AA</td>\n",
       "      <td>276.35</td>\n",
       "    </tr>\n",
       "  </tbody>\n",
       "</table>\n",
       "</div>"
      ],
      "text/plain": [
       "   Unnamed: 0       ItinID          MktID  MktCoupons  Quarter Origin  \\\n",
       "0           0  20181767585  2018176758501           1        1    PHL   \n",
       "1           1  20181767586  2018176758601           1        1    PHL   \n",
       "2           2  20181767587  2018176758701           1        1    PHL   \n",
       "3           3  20181767636  2018176763601           1        1    PHL   \n",
       "4           4  20181767637  2018176763701           1        1    PHL   \n",
       "\n",
       "   OriginWac Dest  DestWac   Miles  ContiguousUSA  NumTicketsOrdered  \\\n",
       "0         23  LAX       91  2402.0              2                1.0   \n",
       "1         23  LAX       91  2402.0              2                1.0   \n",
       "2         23  LAX       91  2402.0              2                1.0   \n",
       "3         23  LAX       91  2402.0              2                1.0   \n",
       "4         23  LAX       91  2402.0              2                1.0   \n",
       "\n",
       "  AirlineCompany  PricePerTicket  \n",
       "0             AA          672.87  \n",
       "1             AA          367.68  \n",
       "2             AA          417.94  \n",
       "3             AA          247.10  \n",
       "4             AA          276.35  "
      ]
     },
     "execution_count": 24,
     "metadata": {},
     "output_type": "execute_result"
    }
   ],
   "source": [
    "#This file is too big to upload to github.  Please download this file from https://www.kaggle.com/zernach/2018-airplane-flights\n",
    "#this file is not included in the resources folder.\n",
    "csv_file = \"Cleaned_2018_Flights.csv\"\n",
    "airline_2018_df = pd.read_csv(csv_file)\n",
    "airline_2018_df.head()\n",
    "\n",
    " "
   ]
  },
  {
   "cell_type": "code",
   "execution_count": 25,
   "metadata": {},
   "outputs": [
    {
     "data": {
      "text/plain": [
       "Index(['Unnamed: 0', 'ItinID', 'MktID', 'MktCoupons', 'Quarter', 'Origin',\n",
       "       'OriginWac', 'Dest', 'DestWac', 'Miles', 'ContiguousUSA',\n",
       "       'NumTicketsOrdered', 'AirlineCompany', 'PricePerTicket'],\n",
       "      dtype='object')"
      ]
     },
     "execution_count": 25,
     "metadata": {},
     "output_type": "execute_result"
    }
   ],
   "source": [
    "airline_2018_df.columns"
   ]
  },
  {
   "cell_type": "code",
   "execution_count": 26,
   "metadata": {},
   "outputs": [
    {
     "data": {
      "text/html": [
       "<div>\n",
       "<style scoped>\n",
       "    .dataframe tbody tr th:only-of-type {\n",
       "        vertical-align: middle;\n",
       "    }\n",
       "\n",
       "    .dataframe tbody tr th {\n",
       "        vertical-align: top;\n",
       "    }\n",
       "\n",
       "    .dataframe thead th {\n",
       "        text-align: right;\n",
       "    }\n",
       "</style>\n",
       "<table border=\"1\" class=\"dataframe\">\n",
       "  <thead>\n",
       "    <tr style=\"text-align: right;\">\n",
       "      <th></th>\n",
       "      <th>Origin</th>\n",
       "      <th>Dest</th>\n",
       "      <th>Miles</th>\n",
       "      <th>AirlineCompany</th>\n",
       "      <th>PricePerTicket</th>\n",
       "    </tr>\n",
       "  </thead>\n",
       "  <tbody>\n",
       "    <tr>\n",
       "      <td>0</td>\n",
       "      <td>PHL</td>\n",
       "      <td>LAX</td>\n",
       "      <td>2402.0</td>\n",
       "      <td>AA</td>\n",
       "      <td>672.87</td>\n",
       "    </tr>\n",
       "    <tr>\n",
       "      <td>1</td>\n",
       "      <td>PHL</td>\n",
       "      <td>LAX</td>\n",
       "      <td>2402.0</td>\n",
       "      <td>AA</td>\n",
       "      <td>367.68</td>\n",
       "    </tr>\n",
       "    <tr>\n",
       "      <td>2</td>\n",
       "      <td>PHL</td>\n",
       "      <td>LAX</td>\n",
       "      <td>2402.0</td>\n",
       "      <td>AA</td>\n",
       "      <td>417.94</td>\n",
       "    </tr>\n",
       "    <tr>\n",
       "      <td>3</td>\n",
       "      <td>PHL</td>\n",
       "      <td>LAX</td>\n",
       "      <td>2402.0</td>\n",
       "      <td>AA</td>\n",
       "      <td>247.10</td>\n",
       "    </tr>\n",
       "    <tr>\n",
       "      <td>4</td>\n",
       "      <td>PHL</td>\n",
       "      <td>LAX</td>\n",
       "      <td>2402.0</td>\n",
       "      <td>AA</td>\n",
       "      <td>276.35</td>\n",
       "    </tr>\n",
       "  </tbody>\n",
       "</table>\n",
       "</div>"
      ],
      "text/plain": [
       "  Origin Dest   Miles AirlineCompany  PricePerTicket\n",
       "0    PHL  LAX  2402.0             AA          672.87\n",
       "1    PHL  LAX  2402.0             AA          367.68\n",
       "2    PHL  LAX  2402.0             AA          417.94\n",
       "3    PHL  LAX  2402.0             AA          247.10\n",
       "4    PHL  LAX  2402.0             AA          276.35"
      ]
     },
     "execution_count": 26,
     "metadata": {},
     "output_type": "execute_result"
    }
   ],
   "source": [
    "cleaned_airline_2018_df = airline_2018_df[['Origin', 'Dest', 'Miles', 'AirlineCompany','PricePerTicket' ]]\n",
    "cleaned_airline_2018_df.head()"
   ]
  },
  {
   "cell_type": "code",
   "execution_count": 27,
   "metadata": {},
   "outputs": [
    {
     "data": {
      "text/html": [
       "<div>\n",
       "<style scoped>\n",
       "    .dataframe tbody tr th:only-of-type {\n",
       "        vertical-align: middle;\n",
       "    }\n",
       "\n",
       "    .dataframe tbody tr th {\n",
       "        vertical-align: top;\n",
       "    }\n",
       "\n",
       "    .dataframe thead th {\n",
       "        text-align: right;\n",
       "    }\n",
       "</style>\n",
       "<table border=\"1\" class=\"dataframe\">\n",
       "  <thead>\n",
       "    <tr style=\"text-align: right;\">\n",
       "      <th></th>\n",
       "      <th>origin_airport_code</th>\n",
       "      <th>dest_airport_code</th>\n",
       "      <th>miles</th>\n",
       "      <th>airline_code</th>\n",
       "      <th>price</th>\n",
       "    </tr>\n",
       "  </thead>\n",
       "  <tbody>\n",
       "    <tr>\n",
       "      <td>0</td>\n",
       "      <td>PHL</td>\n",
       "      <td>LAX</td>\n",
       "      <td>2402.0</td>\n",
       "      <td>AA</td>\n",
       "      <td>672.87</td>\n",
       "    </tr>\n",
       "    <tr>\n",
       "      <td>1</td>\n",
       "      <td>PHL</td>\n",
       "      <td>LAX</td>\n",
       "      <td>2402.0</td>\n",
       "      <td>AA</td>\n",
       "      <td>367.68</td>\n",
       "    </tr>\n",
       "    <tr>\n",
       "      <td>2</td>\n",
       "      <td>PHL</td>\n",
       "      <td>LAX</td>\n",
       "      <td>2402.0</td>\n",
       "      <td>AA</td>\n",
       "      <td>417.94</td>\n",
       "    </tr>\n",
       "    <tr>\n",
       "      <td>3</td>\n",
       "      <td>PHL</td>\n",
       "      <td>LAX</td>\n",
       "      <td>2402.0</td>\n",
       "      <td>AA</td>\n",
       "      <td>247.10</td>\n",
       "    </tr>\n",
       "    <tr>\n",
       "      <td>4</td>\n",
       "      <td>PHL</td>\n",
       "      <td>LAX</td>\n",
       "      <td>2402.0</td>\n",
       "      <td>AA</td>\n",
       "      <td>276.35</td>\n",
       "    </tr>\n",
       "  </tbody>\n",
       "</table>\n",
       "</div>"
      ],
      "text/plain": [
       "  origin_airport_code dest_airport_code   miles airline_code   price\n",
       "0                 PHL               LAX  2402.0           AA  672.87\n",
       "1                 PHL               LAX  2402.0           AA  367.68\n",
       "2                 PHL               LAX  2402.0           AA  417.94\n",
       "3                 PHL               LAX  2402.0           AA  247.10\n",
       "4                 PHL               LAX  2402.0           AA  276.35"
      ]
     },
     "execution_count": 27,
     "metadata": {},
     "output_type": "execute_result"
    }
   ],
   "source": [
    "#rename columns\n",
    "\n",
    "cleaned_airline_2018_df.columns =[\"origin_airport_code\", \"dest_airport_code\", \"miles\", \"airline_code\",  \"price\" ]\n",
    "cleaned_airline_2018_df.head()"
   ]
  },
  {
   "cell_type": "code",
   "execution_count": 30,
   "metadata": {},
   "outputs": [
    {
     "data": {
      "text/plain": [
       "['airline_codes', 'airport_name', 'flight_2018']"
      ]
     },
     "execution_count": 30,
     "metadata": {},
     "output_type": "execute_result"
    }
   ],
   "source": [
    " # pip install psycopg2 \n",
    "# rds_connection_string = \"<insert user name>:<insert password>@localhost:5432/<insert database>\"\n",
    "rds_connection_string = \"postgres:postgres@localhost:5432/airline_etl\"\n",
    "engine = create_engine(f'postgresql://{rds_connection_string}')\n",
    "engine.table_names()\n",
    "\n",
    "\n",
    "    \n",
    "    "
   ]
  },
  {
   "cell_type": "code",
   "execution_count": null,
   "metadata": {},
   "outputs": [],
   "source": [
    "# Use pandas to load csv converted DataFrame into database\n",
    "cleaned_airline_2018_df.to_sql(name='flight_2018', con=engine, if_exists='append', index=False)"
   ]
  },
  {
   "cell_type": "code",
   "execution_count": null,
   "metadata": {},
   "outputs": [],
   "source": [
    "pd.read_sql_query('select * from flight_2018', con=engine).head()"
   ]
  },
  {
   "cell_type": "markdown",
   "metadata": {},
   "source": [
    "## Clean Airport Code Data"
   ]
  },
  {
   "cell_type": "code",
   "execution_count": null,
   "metadata": {},
   "outputs": [],
   "source": [
    "csv_file = \"resources/airport_code.csv\"\n",
    "airline_2018_df = pd.read_csv(csv_file)\n",
    "airline_2018_df.head()\n"
   ]
  }
 ],
 "metadata": {
  "kernelspec": {
   "display_name": "Python 3",
   "language": "python",
   "name": "python3"
  },
  "language_info": {
   "codemirror_mode": {
    "name": "ipython",
    "version": 3
   },
   "file_extension": ".py",
   "mimetype": "text/x-python",
   "name": "python",
   "nbconvert_exporter": "python",
   "pygments_lexer": "ipython3",
   "version": "3.7.4"
  }
 },
 "nbformat": 4,
 "nbformat_minor": 2
}
